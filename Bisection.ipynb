{
 "cells": [
  {
   "cell_type": "markdown",
   "metadata": {},
   "source": [
    "<h1 style=\"text-align:center;\"> Bisection Method </h1>\n",
    "<h4 style=\"text-align:center;\"> Designer and Developer : Mobin Nesari </h4>\n",
    "<h4 style=\"text-align:center;\"> Professors: PhD.Amani Rad & PhD.Parand </h4>"
   ]
  },
  {
   "cell_type": "markdown",
   "metadata": {},
   "source": [
    "<h3>Abstract</h3>\n",
    "<p>\n",
    "    In this file, Bisection method has been implemented. <br>\n",
    "    This algorithm is used for finding roots of a particular equation with computer. Main idea of this algorithm has came from binary search in a sorted array.\n",
    "</p>"
   ]
  },
  {
   "cell_type": "markdown",
   "metadata": {},
   "source": [
    "<h3>Intuition</h3>\n",
    "<p>\n",
    "    Assume equation $f(x) = 0$. Also we know that for two distinct numbers like $a$ and $b$ which $a<b$ and $f(a)$ and $f(b)$ of opposite signs. <br>\n",
    "    Let's define $p_1 = \\frac{a + b}{2}$. Now consider $V = f(p_1)$. If $V > 0$, then we should substitute the variable which has same sign by V with V. <br>\n",
    "    We continue this procedure until at least one of these conditions is satisfied:<br>\n",
    "    <ol>\n",
    "        <li>We reach to $p_i$ which $f(p_i) = 0$</li>\n",
    "        <li>We reach to a tolerance interval which $f(p_i) < TOL$</li>\n",
    "        <li>We reach to maximum number of iterations</li>\n",
    "    </ol>\n",
    "</p>"
   ]
  },
  {
   "cell_type": "markdown",
   "metadata": {},
   "source": [
    "<h3> Algorithm Attributes</h3>\n",
    "<h4> Inputs </h4>\n",
    "<ol>\n",
    "    <li> Endpoints: a, b </li>\n",
    "    <li> Tolerance: TOL </li>\n",
    "    <li> <p>Maximum number of iterations: $N_0$</p> </li> \n",
    "</ol>\n",
    "<h4> Outputs </h4>\n",
    "<ol>\n",
    "    <li> Approximate soulution : p </li>\n",
    "    <li> Message of failure </li>\n",
    "</ol>\n"
   ]
  },
  {
   "cell_type": "markdown",
   "metadata": {},
   "source": [
    "<h3> Code: </h3>"
   ]
  },
  {
   "cell_type": "code",
   "execution_count": 3,
   "metadata": {},
   "outputs": [],
   "source": [
    "def f(x : float) -> float:\n",
    "    return 2 * x - 3"
   ]
  },
  {
   "cell_type": "code",
   "execution_count": 5,
   "metadata": {},
   "outputs": [],
   "source": [
    "def bisection(a : float, b : float, TOL : float, N : float):\n",
    "    answer = 0\n",
    "    iteration = 1\n",
    "    while iteration < N:\n",
    "        p = a + (b - a) / 2\n",
    "        if f(p) == 0 or abs(f(p)) < TOL:\n",
    "            return p\n",
    "        if f(p) * f(a) > 0:\n",
    "            a = p\n",
    "        else:\n",
    "            b = p\n",
    "        iteration += 1\n",
    "    return None"
   ]
  }
 ],
 "metadata": {
  "interpreter": {
   "hash": "b0fa6594d8f4cbf19f97940f81e996739fb7646882a419484c72d19e05852a7e"
  },
  "kernelspec": {
   "display_name": "Python 3 (ipykernel)",
   "language": "python",
   "name": "python3"
  },
  "language_info": {
   "codemirror_mode": {
    "name": "ipython",
    "version": 3
   },
   "file_extension": ".py",
   "mimetype": "text/x-python",
   "name": "python",
   "nbconvert_exporter": "python",
   "pygments_lexer": "ipython3",
   "version": "3.9.7"
  }
 },
 "nbformat": 4,
 "nbformat_minor": 4
}
