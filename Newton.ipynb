{
 "cells": [
  {
   "cell_type": "markdown",
   "metadata": {},
   "source": [
    "<h1 style=\"text-align:center;\"> Newton Method </h1>\n",
    "<h4 style=\"text-align:center;\"> Designer and Developer : Mobin Nesari </h4>\n",
    "<h4 style=\"text-align:center;\"> Professors: PhD.Amani Rad & PhD.Parand </h4>"
   ]
  },
  {
   "cell_type": "markdown",
   "metadata": {},
   "source": [
    "<h3>Abstract</h3>\n",
    "<p>\n",
    "    In this file, Newtonmethod has been implemented. <br>\n",
    "</p>"
   ]
  },
  {
   "cell_type": "markdown",
   "metadata": {},
   "source": [
    "<h3>Intuition</h3>\n",
    "<p>\n",
    "    Assume funtion $f(x) = 0 $. If we write Taylor Series for this function till second order, we will encounter <br> $f(p) \\approx f(p_0) + \\frac{f'(p_0) \\cdot (p-p_0)}{1!} + \\frac{(f''(p_0) \\cdot (p-p_0)^2)}{2!}$<br>\n",
    "    Now let's set $f(p) = 0$, $0 = f(p_0) + \\frac{f'(p_0) \\cdot (p-p_0)}{1!} + \\frac{f''(0) \\cdot (p-p_0)^2}{2!} \\implies $ <br>\n",
    "    $ 0 \\approx f(p_0) + (p-p_0)f'(p_0) \\implies p \\approx p_0 - \\frac{f(p_0)}{f'(p_0)} \\equiv p_1$  <br>\n",
    "    Now according to this, we can say $p_{n} = p_{n-1} - \\frac{f(p_{n-1})}{f'(p_{n-1})}$.\n",
    "    \n",
    "</p>"
   ]
  },
  {
   "cell_type": "markdown",
   "metadata": {},
   "source": [
    "<h3> Algorithm Attributes</h3>\n",
    "<h4> Inputs </h4>\n",
    "<ol>\n",
    "    <li> <p>Initial approximation $p_0 $</p> </li>\n",
    "    <li> <p> Tolerance: TOL </p> </li>\n",
    "    <li> <p>Maximum number of iterations: $N_0$</p> </li> \n",
    "</ol>\n",
    "<h4> Outputs </h4>\n",
    "<ol>\n",
    "    <li> Approximate soulution : p </li>\n",
    "    <li> Message of failure </li>\n",
    "</ol>\n"
   ]
  },
  {
   "cell_type": "markdown",
   "metadata": {},
   "source": [
    "<h3> Code: </h3>"
   ]
  },
  {
   "cell_type": "code",
   "execution_count": 1,
   "metadata": {},
   "outputs": [],
   "source": [
    "def f(x : float) -> float:\n",
    "    return (x - 3)**3"
   ]
  },
  {
   "cell_type": "code",
   "execution_count": 2,
   "metadata": {},
   "outputs": [],
   "source": [
    "def f_prime(x : float) ->float:\n",
    "    return 3 * (x - 3) ** 2"
   ]
  },
  {
   "cell_type": "code",
   "execution_count": 3,
   "metadata": {},
   "outputs": [],
   "source": [
    "def Newton_method(p0 : float, TOL : float, N : int) -> float:\n",
    "    iterator = 1\n",
    "    while i <= N:\n",
    "        p = p0 - f(p0)/f_prime(p0)\n",
    "        if abs(p - p0) < TOL:\n",
    "            return p\n",
    "        iterator += 1\n",
    "        p0 = p\n",
    "    return None"
   ]
  },
  {
   "cell_type": "code",
   "execution_count": null,
   "metadata": {},
   "outputs": [],
   "source": []
  }
 ],
 "metadata": {
  "interpreter": {
   "hash": "b0fa6594d8f4cbf19f97940f81e996739fb7646882a419484c72d19e05852a7e"
  },
  "kernelspec": {
   "display_name": "Python 3 (ipykernel)",
   "language": "python",
   "name": "python3"
  },
  "language_info": {
   "codemirror_mode": {
    "name": "ipython",
    "version": 3
   },
   "file_extension": ".py",
   "mimetype": "text/x-python",
   "name": "python",
   "nbconvert_exporter": "python",
   "pygments_lexer": "ipython3",
   "version": "3.9.7"
  }
 },
 "nbformat": 4,
 "nbformat_minor": 4
}
