{
 "cells": [
  {
   "cell_type": "markdown",
   "metadata": {},
   "source": [
    "<h1 style=\"text-align:center;\"> Fixed-Point Iteration </h1>\n",
    "<h4 style=\"text-align:center;\"> Designer and Developer : Mobin Nesari </h4>\n",
    "<h4 style=\"text-align:center;\"> Professors: PhD.Amani Rad & PhD.Parand </h4>"
   ]
  },
  {
   "cell_type": "markdown",
   "metadata": {},
   "source": []
  },
  {
   "cell_type": "markdown",
   "metadata": {},
   "source": [
    "<h3>Abstract</h3>\n",
    "<p>\n",
    "    In this file, Fixed-Point iteration algorithm has been implemented. This algorithm is used for finding roots of a particular equation with computers. <br>\n",
    "</p>\n"
   ]
  },
  {
   "cell_type": "markdown",
   "metadata": {},
   "source": []
  },
  {
   "cell_type": "markdown",
   "metadata": {},
   "source": [
    "<h3> Algorithm</h3>\n",
    "<p>\n",
    "    Input: Initial approximation $p_0$ which \n",
    "</p>"
   ]
  }
 ],
 "metadata": {
  "language_info": {
   "name": "python"
  },
  "orig_nbformat": 4
 },
 "nbformat": 4,
 "nbformat_minor": 2
}
