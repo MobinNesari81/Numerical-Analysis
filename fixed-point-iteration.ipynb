{
 "cells": [
  {
   "cell_type": "markdown",
   "metadata": {},
   "source": [
    "<h1 style=\"text-align:center;\"> Fixed-Point Iteration </h1>\n",
    "<h4 style=\"text-align:center;\"> Designer and Developer : Mobin Nesari </h4>\n",
    "<h4 style=\"text-align:center;\"> Professors: PhD.Amani Rad & PhD.Parand </h4>"
   ]
  },
  {
   "cell_type": "markdown",
   "metadata": {},
   "source": [
    "<h3>Abstract</h3>\n",
    "<p>\n",
    "    In this file, Fixed-Point iteration algorithm has been implemented. This algorithm is used for finding roots of a particular equation with computers. <br>\n",
    "</p>\n"
   ]
  },
  {
   "cell_type": "markdown",
   "metadata": {},
   "source": [
    "<h3> Intuition </h3>\n",
    "<p>\n",
    "    Assume we have function $g(x)$ as an arbitrary function. We want to find out where this function intersect with $y = x$. <br>\n",
    "    First we should consider a initial approximation like $p_0$ which we think is near final answer. Then procedure should iterate recursively and always set $p = g(p_0)$ and then $p_0 = p$. Halting condition for this procedure will be :\n",
    "    <ol>\n",
    "        <li><p> $|p - p_0| < TOL$ </p> </li>\n",
    "        <li><p> Iterates more than most valid iteration</p></li>\n",
    "    </ol>\n",
    "</p>"
   ]
  },
  {
   "cell_type": "markdown",
   "metadata": {},
   "source": [
    "<h3> Algorithm</h3>\n",
    "<h4> Inputs </h4>\n",
    "<ol>\n",
    "    <li><p>Initial approximation: $p_0$</p></li>\n",
    "    <li> <p>Tolerence: TOL</p> </li>\n",
    "    <li> <p> Maximum number of iterations $N_0$ </p></li>\n",
    "</ol>\n",
    "<h4> Outputs </h4>\n",
    "<ol>\n",
    "    <li> Approximate solution: p </li>\n",
    "    <li> Message of failure </li>\n",
    "</ol>\n"
   ]
  },
  {
   "cell_type": "markdown",
   "metadata": {},
   "source": [
    "<h3> Code: </h3>"
   ]
  },
  {
   "cell_type": "code",
   "execution_count": 2,
   "metadata": {},
   "outputs": [],
   "source": [
    "import math\n",
    "def g(x : float) -> float:\n",
    "    return math.log(x)"
   ]
  },
  {
   "cell_type": "code",
   "execution_count": 3,
   "metadata": {},
   "outputs": [],
   "source": [
    "def fixed_point_iteration(p0: float, TOL : float, N : int) -> float:\n",
    "    i = 1\n",
    "    while i <= N:\n",
    "        p = g(p0)\n",
    "        if abs(p - p0) < TOL:\n",
    "            return p\n",
    "        i += 1\n",
    "        p0 = p\n",
    "    return None"
   ]
  }
 ],
 "metadata": {
  "kernelspec": {
   "display_name": "Python 3.9.5 ('base')",
   "language": "python",
   "name": "python395jvsc74a57bd0215e7dcccd7279e414e0c061239907d2c832c7775e0bf60a4e7fe0ef32bfbe86"
  },
  "language_info": {
   "codemirror_mode": {
    "name": "ipython",
    "version": 3
   },
   "file_extension": ".py",
   "mimetype": "text/x-python",
   "name": "python",
   "nbconvert_exporter": "python",
   "pygments_lexer": "ipython3",
   "version": "3.9.5"
  }
 },
 "nbformat": 4,
 "nbformat_minor": 4
}
